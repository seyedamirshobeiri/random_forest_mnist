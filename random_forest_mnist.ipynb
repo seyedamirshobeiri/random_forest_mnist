{
 "cells": [
  {
   "cell_type": "code",
   "execution_count": 63,
   "metadata": {},
   "outputs": [],
   "source": [
    "from sklearn.datasets import load_digits\n",
    "from sklearn.metrics import confusion_matrix\n",
    "from sklearn.model_selection import train_test_split\n",
    "from sklearn.ensemble import RandomForestClassifier\n",
    "import pandas as pd\n",
    "import matplotlib.pyplot as plt\n",
    "from skimage.transform import resize\n",
    "digits=load_digits()"
   ]
  },
  {
   "cell_type": "code",
   "execution_count": 64,
   "metadata": {},
   "outputs": [
    {
     "data": {
      "text/plain": [
       "['DESCR', 'data', 'feature_names', 'frame', 'images', 'target', 'target_names']"
      ]
     },
     "execution_count": 64,
     "metadata": {},
     "output_type": "execute_result"
    }
   ],
   "source": [
    "dir(digits)"
   ]
  },
  {
   "cell_type": "code",
   "execution_count": 65,
   "metadata": {},
   "outputs": [],
   "source": [
    "df=pd.DataFrame(digits.data)\n"
   ]
  },
  {
   "cell_type": "code",
   "execution_count": 66,
   "metadata": {},
   "outputs": [],
   "source": [
    "df['target']=digits.target\n",
    "\n"
   ]
  },
  {
   "cell_type": "code",
   "execution_count": 67,
   "metadata": {},
   "outputs": [],
   "source": [
    "\n",
    "x_train,x_test,y_train,y_test=train_test_split(df.drop(['target'],axis='columns'),digits.target,test_size=0.2)"
   ]
  },
  {
   "cell_type": "code",
   "execution_count": 68,
   "metadata": {},
   "outputs": [
    {
     "data": {
      "text/plain": [
       "RandomForestClassifier(n_estimators=20)"
      ]
     },
     "execution_count": 68,
     "metadata": {},
     "output_type": "execute_result"
    }
   ],
   "source": [
    "\n",
    "model=RandomForestClassifier(n_estimators=20)\n",
    "model.fit(x_train,y_train)"
   ]
  },
  {
   "cell_type": "code",
   "execution_count": 69,
   "metadata": {},
   "outputs": [
    {
     "data": {
      "text/plain": [
       "0.9666666666666667"
      ]
     },
     "execution_count": 69,
     "metadata": {},
     "output_type": "execute_result"
    }
   ],
   "source": [
    "model.score(x_test,y_test)"
   ]
  },
  {
   "cell_type": "code",
   "execution_count": 70,
   "metadata": {},
   "outputs": [],
   "source": [
    "y_predicted=model.predict(x_test)"
   ]
  },
  {
   "cell_type": "code",
   "execution_count": 71,
   "metadata": {},
   "outputs": [],
   "source": [
    "\n",
    "cm=confusion_matrix(y_test,y_predicted)\n"
   ]
  },
  {
   "cell_type": "code",
   "execution_count": 40,
   "metadata": {},
   "outputs": [
    {
     "data": {
      "text/plain": [
       "array([1, 5, 4, 2, 4, 4, 3, 8, 3, 7, 1, 6, 3, 0, 6, 8, 1, 7, 8, 6, 2, 7,\n",
       "       3, 0, 1, 8, 0, 7, 4, 4, 8, 0, 4, 7, 5, 8, 5, 1, 9, 5, 5, 7, 0, 0,\n",
       "       5, 7, 2, 0, 4, 4, 9, 2, 6, 1, 1, 6, 4, 8, 5, 7, 1, 4, 4, 7, 6, 1,\n",
       "       4, 1, 1, 2, 1, 6, 9, 0, 4, 2, 1, 1, 3, 6, 9, 9, 9, 6, 3, 2, 6, 3,\n",
       "       2, 1, 9, 0, 1, 1, 7, 6, 2, 4, 4, 4, 7, 9, 8, 6, 7, 7, 1, 3, 0, 4,\n",
       "       5, 4, 4, 0, 0, 8, 3, 6, 1, 2, 9, 5, 0, 7, 8, 4, 9, 6, 7, 9, 1, 3,\n",
       "       2, 3, 8, 3, 8, 2, 3, 6, 8, 7, 9, 0, 4, 8, 8, 8, 7, 2, 4, 4, 4, 8,\n",
       "       7, 5, 3, 6, 2, 3, 1, 0, 1, 2, 2, 7, 4, 0, 6, 3, 8, 7, 1, 1, 0, 5,\n",
       "       7, 6, 8, 9, 7, 4, 8, 5, 8, 6, 5, 4, 7, 3, 1, 5, 0, 7, 8, 7, 3, 4,\n",
       "       5, 2, 0, 1, 7, 0, 6, 4, 2, 3, 3, 4, 4, 5, 8, 8, 4, 1, 1, 3, 9, 0,\n",
       "       5, 5, 6, 1, 2, 0, 6, 8, 1, 7, 1, 7, 9, 0, 7, 7, 3, 1, 6, 3, 9, 9,\n",
       "       3, 6, 5, 2, 4, 5, 4, 7, 5, 3, 0, 2, 4, 9, 7, 5, 5, 9, 4, 8, 0, 8,\n",
       "       2, 9, 4, 8, 5, 9, 4, 7, 2, 5, 7, 3, 0, 1, 9, 5, 4, 9, 7, 6, 3, 3,\n",
       "       2, 3, 7, 2, 0, 8, 9, 0, 6, 3, 4, 9, 7, 8, 2, 3, 4, 7, 0, 1, 1, 8,\n",
       "       4, 7, 8, 1, 4, 3, 9, 6, 6, 4, 3, 8, 9, 8, 0, 5, 6, 3, 5, 9, 4, 0,\n",
       "       9, 7, 9, 3, 2, 4, 0, 0, 3, 5, 4, 0, 0, 9, 9, 0, 3, 1, 9, 3, 0, 8,\n",
       "       7, 3, 5, 1, 0, 9, 9, 2])"
      ]
     },
     "execution_count": 40,
     "metadata": {},
     "output_type": "execute_result"
    }
   ],
   "source": [
    "y_predicted"
   ]
  },
  {
   "cell_type": "code",
   "execution_count": 54,
   "metadata": {},
   "outputs": [],
   "source": [
    "\n"
   ]
  },
  {
   "cell_type": "code",
   "execution_count": null,
   "metadata": {},
   "outputs": [],
   "source": []
  },
  {
   "cell_type": "code",
   "execution_count": null,
   "metadata": {},
   "outputs": [],
   "source": []
  },
  {
   "cell_type": "code",
   "execution_count": null,
   "metadata": {},
   "outputs": [],
   "source": []
  }
 ],
 "metadata": {
  "kernelspec": {
   "display_name": "Python 3",
   "language": "python",
   "name": "python3"
  },
  "language_info": {
   "codemirror_mode": {
    "name": "ipython",
    "version": 3
   },
   "file_extension": ".py",
   "mimetype": "text/x-python",
   "name": "python",
   "nbconvert_exporter": "python",
   "pygments_lexer": "ipython3",
   "version": "3.8.3"
  }
 },
 "nbformat": 4,
 "nbformat_minor": 4
}
